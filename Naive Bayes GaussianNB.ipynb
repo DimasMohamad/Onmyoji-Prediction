{
 "cells": [
  {
   "cell_type": "code",
   "execution_count": 1,
   "metadata": {},
   "outputs": [],
   "source": [
    "import pandas as pd\n",
    "import numpy as np"
   ]
  },
  {
   "cell_type": "code",
   "execution_count": 2,
   "metadata": {},
   "outputs": [
    {
     "data": {
      "text/html": [
       "<div>\n",
       "<style scoped>\n",
       "    .dataframe tbody tr th:only-of-type {\n",
       "        vertical-align: middle;\n",
       "    }\n",
       "\n",
       "    .dataframe tbody tr th {\n",
       "        vertical-align: top;\n",
       "    }\n",
       "\n",
       "    .dataframe thead th {\n",
       "        text-align: right;\n",
       "    }\n",
       "</style>\n",
       "<table border=\"1\" class=\"dataframe\">\n",
       "  <thead>\n",
       "    <tr style=\"text-align: right;\">\n",
       "      <th></th>\n",
       "      <th>NAMA</th>\n",
       "      <th>DPS</th>\n",
       "      <th>BUFF</th>\n",
       "      <th>SURVIVABILITY</th>\n",
       "      <th>CONTROL</th>\n",
       "      <th>AGILITY</th>\n",
       "      <th>HASIL</th>\n",
       "    </tr>\n",
       "  </thead>\n",
       "  <tbody>\n",
       "    <tr>\n",
       "      <th>0</th>\n",
       "      <td>Jorogumo</td>\n",
       "      <td>TINGGI</td>\n",
       "      <td>RENDAH</td>\n",
       "      <td>TINGGI</td>\n",
       "      <td>SEDANG</td>\n",
       "      <td>SEDANG</td>\n",
       "      <td>MENANG</td>\n",
       "    </tr>\n",
       "    <tr>\n",
       "      <th>1</th>\n",
       "      <td>Miketsu</td>\n",
       "      <td>SANGAT TINGGI</td>\n",
       "      <td>SEDANG</td>\n",
       "      <td>RENDAH</td>\n",
       "      <td>SEDANG</td>\n",
       "      <td>SEDANG</td>\n",
       "      <td>MENANG</td>\n",
       "    </tr>\n",
       "    <tr>\n",
       "      <th>2</th>\n",
       "      <td>Yuki Onna</td>\n",
       "      <td>TINGGI</td>\n",
       "      <td>RENDAH</td>\n",
       "      <td>SEDANG</td>\n",
       "      <td>TINGGI</td>\n",
       "      <td>RENDAH</td>\n",
       "      <td>MENANG</td>\n",
       "    </tr>\n",
       "    <tr>\n",
       "      <th>3</th>\n",
       "      <td>Tamamonomae</td>\n",
       "      <td>TINGGI</td>\n",
       "      <td>SANGAT RENDAH</td>\n",
       "      <td>RENDAH</td>\n",
       "      <td>RENDAH</td>\n",
       "      <td>TINGGI</td>\n",
       "      <td>MENANG</td>\n",
       "    </tr>\n",
       "    <tr>\n",
       "      <th>4</th>\n",
       "      <td>Chin</td>\n",
       "      <td>SANGAT TINGGI</td>\n",
       "      <td>SANGAT RENDAH</td>\n",
       "      <td>RENDAH</td>\n",
       "      <td>RENDAH</td>\n",
       "      <td>SEDANG</td>\n",
       "      <td>MENANG</td>\n",
       "    </tr>\n",
       "  </tbody>\n",
       "</table>\n",
       "</div>"
      ],
      "text/plain": [
       "          NAMA            DPS           BUFF SURVIVABILITY CONTROL AGILITY  \\\n",
       "0     Jorogumo         TINGGI         RENDAH        TINGGI  SEDANG  SEDANG   \n",
       "1      Miketsu  SANGAT TINGGI         SEDANG        RENDAH  SEDANG  SEDANG   \n",
       "2    Yuki Onna         TINGGI         RENDAH        SEDANG  TINGGI  RENDAH   \n",
       "3  Tamamonomae         TINGGI  SANGAT RENDAH        RENDAH  RENDAH  TINGGI   \n",
       "4         Chin  SANGAT TINGGI  SANGAT RENDAH        RENDAH  RENDAH  SEDANG   \n",
       "\n",
       "    HASIL  \n",
       "0  MENANG  \n",
       "1  MENANG  \n",
       "2  MENANG  \n",
       "3  MENANG  \n",
       "4  MENANG  "
      ]
     },
     "execution_count": 2,
     "metadata": {},
     "output_type": "execute_result"
    }
   ],
   "source": [
    "result = pd.read_csv(\"Dataset.csv\")\n",
    "result.head()"
   ]
  },
  {
   "cell_type": "code",
   "execution_count": 3,
   "metadata": {},
   "outputs": [],
   "source": [
    "features = result.iloc[:,:-1]\n",
    "hasil = result.iloc[:,6:]"
   ]
  },
  {
   "cell_type": "code",
   "execution_count": 4,
   "metadata": {},
   "outputs": [],
   "source": [
    "from sklearn.preprocessing import LabelEncoder"
   ]
  },
  {
   "cell_type": "code",
   "execution_count": 5,
   "metadata": {},
   "outputs": [
    {
     "data": {
      "text/plain": [
       "array([[ 5,  2,  0,  3,  3,  3],\n",
       "       [14,  0,  3,  0,  3,  3],\n",
       "       [23,  2,  0,  2,  4,  0],\n",
       "       [19,  2,  1,  0,  0,  4],\n",
       "       [ 0,  0,  1,  0,  0,  3],\n",
       "       [ 3,  2,  1,  0,  3,  3],\n",
       "       [20,  2,  0,  2,  1,  2],\n",
       "       [23,  2,  0,  2,  4,  0],\n",
       "       [14,  0,  3,  0,  3,  3],\n",
       "       [ 7,  1,  1,  3,  4,  0],\n",
       "       [17,  0,  1,  2,  2,  3],\n",
       "       [ 6,  2,  1,  2,  3,  0],\n",
       "       [ 4,  0,  3,  1,  4,  3],\n",
       "       [15,  2,  0,  0,  3,  0],\n",
       "       [ 6,  2,  1,  2,  3,  0],\n",
       "       [ 2,  2,  3,  0,  3,  1],\n",
       "       [14,  0,  3,  0,  3,  3],\n",
       "       [13,  2,  1,  0,  3,  4],\n",
       "       [12,  1,  1,  3,  0,  2],\n",
       "       [21,  2,  1,  2,  0,  2],\n",
       "       [20,  2,  0,  2,  1,  2],\n",
       "       [17,  0,  1,  2,  2,  3],\n",
       "       [ 7,  1,  1,  3,  4,  0],\n",
       "       [14,  0,  3,  0,  3,  3],\n",
       "       [13,  2,  1,  0,  3,  4],\n",
       "       [ 1,  2,  0,  0,  3,  3],\n",
       "       [10,  2,  0,  0,  0,  4],\n",
       "       [22,  0,  0,  2,  3,  4],\n",
       "       [17,  0,  1,  2,  2,  3],\n",
       "       [ 9,  2,  0,  2,  3,  0],\n",
       "       [11,  2,  1,  2,  0,  3],\n",
       "       [ 8,  2,  1,  0,  3,  3],\n",
       "       [18,  2,  0,  3,  0,  3],\n",
       "       [20,  2,  0,  2,  1,  2],\n",
       "       [ 6,  2,  1,  2,  3,  0],\n",
       "       [ 7,  1,  1,  3,  4,  0],\n",
       "       [ 8,  2,  1,  0,  3,  3],\n",
       "       [16,  2,  2,  0,  3,  0],\n",
       "       [14,  0,  3,  0,  3,  3],\n",
       "       [ 6,  2,  1,  2,  3,  0]])"
      ]
     },
     "execution_count": 5,
     "metadata": {},
     "output_type": "execute_result"
    }
   ],
   "source": [
    "features = features.apply(LabelEncoder().fit_transform).values\n",
    "features"
   ]
  },
  {
   "cell_type": "code",
   "execution_count": 6,
   "metadata": {},
   "outputs": [
    {
     "data": {
      "text/plain": [
       "array([[1],\n",
       "       [1],\n",
       "       [1],\n",
       "       [1],\n",
       "       [1],\n",
       "       [0],\n",
       "       [0],\n",
       "       [0],\n",
       "       [0],\n",
       "       [0],\n",
       "       [0],\n",
       "       [0],\n",
       "       [0],\n",
       "       [0],\n",
       "       [0],\n",
       "       [1],\n",
       "       [1],\n",
       "       [1],\n",
       "       [1],\n",
       "       [1],\n",
       "       [0],\n",
       "       [0],\n",
       "       [0],\n",
       "       [0],\n",
       "       [0],\n",
       "       [1],\n",
       "       [1],\n",
       "       [1],\n",
       "       [1],\n",
       "       [1],\n",
       "       [0],\n",
       "       [0],\n",
       "       [0],\n",
       "       [0],\n",
       "       [0],\n",
       "       [1],\n",
       "       [1],\n",
       "       [1],\n",
       "       [1],\n",
       "       [1]])"
      ]
     },
     "execution_count": 6,
     "metadata": {},
     "output_type": "execute_result"
    }
   ],
   "source": [
    "hasil = hasil.apply(LabelEncoder().fit_transform).values\n",
    "hasil"
   ]
  },
  {
   "cell_type": "code",
   "execution_count": 7,
   "metadata": {},
   "outputs": [],
   "source": [
    "from sklearn.model_selection import train_test_split\n",
    "X_train, X_test, Y_train, Y_test = train_test_split(features, hasil, test_size=0.3, random_state=1)"
   ]
  },
  {
   "cell_type": "code",
   "execution_count": 8,
   "metadata": {},
   "outputs": [
    {
     "name": "stderr",
     "output_type": "stream",
     "text": [
      "C:\\Users\\Dimas\\Anaconda3\\lib\\site-packages\\sklearn\\utils\\validation.py:724: DataConversionWarning: A column-vector y was passed when a 1d array was expected. Please change the shape of y to (n_samples, ), for example using ravel().\n",
      "  y = column_or_1d(y, warn=True)\n"
     ]
    }
   ],
   "source": [
    "from sklearn.naive_bayes import GaussianNB\n",
    "\n",
    "model = GaussianNB()\n",
    "\n",
    "gnb = model.fit(X_train, Y_train)"
   ]
  },
  {
   "cell_type": "code",
   "execution_count": 9,
   "metadata": {},
   "outputs": [],
   "source": [
    "pred_team = gnb.predict([[17,  0,  1,  2,  2,  3],\n",
    "       [ 6,  2,  1,  2,  3,  0],\n",
    "       [ 4,  0,  3,  1,  4,  3],\n",
    "       [15,  2,  0,  0,  3,  0],\n",
    "       [ 6,  2,  1,  2,  3,  0]])\n",
    "\n",
    "pred_enemy = gnb.predict([[ 2,  2,  3,  0,  3,  1],\n",
    "       [14,  0,  3,  0,  3,  3],\n",
    "       [13,  2,  1,  0,  3,  4],\n",
    "       [12,  1,  1,  3,  0,  2],\n",
    "       [21,  2,  1,  2,  0,  2]])"
   ]
  },
  {
   "cell_type": "code",
   "execution_count": 10,
   "metadata": {},
   "outputs": [
    {
     "name": "stdout",
     "output_type": "stream",
     "text": [
      "Kemungkinan kemenangan dari team sendiri adalah  33.33333333333333 %\n"
     ]
    }
   ],
   "source": [
    "print('Kemungkinan kemenangan dari team sendiri adalah ', ((sum(pred_team)*0.5)/((sum(pred_team)*0.5)+(sum(pred_enemy)*0.5)))*100,'%')"
   ]
  },
  {
   "cell_type": "code",
   "execution_count": 11,
   "metadata": {},
   "outputs": [
    {
     "name": "stdout",
     "output_type": "stream",
     "text": [
      "Kemungkinan kemenangan dari team musuh adalah  66.66666666666666 %\n"
     ]
    }
   ],
   "source": [
    "print('Kemungkinan kemenangan dari team musuh adalah ', ((sum(pred_enemy)*0.5)/((sum(pred_enemy)*0.5)+(sum(pred_team)*0.5)))*100,'%')"
   ]
  },
  {
   "cell_type": "code",
   "execution_count": null,
   "metadata": {},
   "outputs": [],
   "source": []
  }
 ],
 "metadata": {
  "kernelspec": {
   "display_name": "Python 3",
   "language": "python",
   "name": "python3"
  },
  "language_info": {
   "codemirror_mode": {
    "name": "ipython",
    "version": 3
   },
   "file_extension": ".py",
   "mimetype": "text/x-python",
   "name": "python",
   "nbconvert_exporter": "python",
   "pygments_lexer": "ipython3",
   "version": "3.7.3"
  }
 },
 "nbformat": 4,
 "nbformat_minor": 2
}
